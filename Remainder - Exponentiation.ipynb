{
 "cells": [
  {
   "cell_type": "raw",
   "metadata": {},
   "source": [
    "a^n % p"
   ]
  },
  {
   "cell_type": "code",
   "execution_count": 1,
   "metadata": {},
   "outputs": [],
   "source": [
    "a = 1000000007\n",
    "n = 1000000007\n",
    "p = 101"
   ]
  },
  {
   "cell_type": "code",
   "execution_count": 2,
   "metadata": {},
   "outputs": [],
   "source": [
    "def exponentiation(a, n, mod):\n",
    "    if n == 1:\n",
    "        return a % mod\n",
    "    else:\n",
    "        b = exponentiation(a, n // 2, mod) % mod\n",
    "        if n % 2 != 0:\n",
    "            a = ((a % mod) * b * b) % mod\n",
    "        else:\n",
    "            a = (b * b) % mod\n",
    "        return a"
   ]
  },
  {
   "cell_type": "code",
   "execution_count": 3,
   "metadata": {},
   "outputs": [
    {
     "name": "stdout",
     "output_type": "stream",
     "text": [
      "Remainder:  14\n"
     ]
    }
   ],
   "source": [
    "remainder = exponentiation(a, n, p)\n",
    "print(\"Remainder: \", remainder)"
   ]
  }
 ],
 "metadata": {
  "kernelspec": {
   "display_name": "Python 3",
   "language": "python",
   "name": "python3"
  },
  "language_info": {
   "codemirror_mode": {
    "name": "ipython",
    "version": 3
   },
   "file_extension": ".py",
   "mimetype": "text/x-python",
   "name": "python",
   "nbconvert_exporter": "python",
   "pygments_lexer": "ipython3",
   "version": "3.7.4"
  }
 },
 "nbformat": 4,
 "nbformat_minor": 2
}
