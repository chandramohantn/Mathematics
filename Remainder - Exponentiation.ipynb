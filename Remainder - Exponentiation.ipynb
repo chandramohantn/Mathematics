{
 "cells": [
  {
   "cell_type": "raw",
   "metadata": {},
   "source": [
    "a^n % p"
   ]
  },
  {
   "cell_type": "code",
   "execution_count": 1,
   "metadata": {},
   "outputs": [],
   "source": [
    "a = 5\n",
    "n = 100\n",
    "p = 7"
   ]
  },
  {
   "cell_type": "code",
   "execution_count": 2,
   "metadata": {},
   "outputs": [],
   "source": [
    "def exponentiation(a, n):\n",
    "    if n == 1:\n",
    "        return a\n",
    "    else:\n",
    "        b = exponentiation(a, n // 2)\n",
    "        if n % 2 != 0:\n",
    "            a = a * b * b\n",
    "        else:\n",
    "            a = b * b\n",
    "        return a"
   ]
  },
  {
   "cell_type": "code",
   "execution_count": 3,
   "metadata": {},
   "outputs": [],
   "source": [
    "# Using fermats little theorem\n",
    "power = n - (p - 1) * (n // (p - 1))"
   ]
  },
  {
   "cell_type": "code",
   "execution_count": 4,
   "metadata": {},
   "outputs": [
    {
     "name": "stdout",
     "output_type": "stream",
     "text": [
      "Remainder:  2\n"
     ]
    }
   ],
   "source": [
    "# Problem reduces to a^power % p\n",
    "remainder = exponentiation(a, power) % p\n",
    "print(\"Remainder: \", remainder)"
   ]
  }
 ],
 "metadata": {
  "kernelspec": {
   "display_name": "Python 3",
   "language": "python",
   "name": "python3"
  },
  "language_info": {
   "codemirror_mode": {
    "name": "ipython",
    "version": 3
   },
   "file_extension": ".py",
   "mimetype": "text/x-python",
   "name": "python",
   "nbconvert_exporter": "python",
   "pygments_lexer": "ipython3",
   "version": "3.7.4"
  }
 },
 "nbformat": 4,
 "nbformat_minor": 2
}
