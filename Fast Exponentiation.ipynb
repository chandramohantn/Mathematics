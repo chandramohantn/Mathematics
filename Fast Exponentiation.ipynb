{
 "cells": [
  {
   "cell_type": "code",
   "execution_count": 1,
   "metadata": {},
   "outputs": [],
   "source": [
    "import time"
   ]
  },
  {
   "cell_type": "code",
   "execution_count": 2,
   "metadata": {},
   "outputs": [],
   "source": [
    "# x ^ n : Recursive\n",
    "def fast_exponentiation_recursive(x, n):\n",
    "    if n == 0:\n",
    "        return 1\n",
    "    elif n == 1:\n",
    "        return x\n",
    "    else:\n",
    "        a = fast_exponentiation_recursive(x, int(n / 2))\n",
    "        if n % 2 == 0:\n",
    "            return a * a\n",
    "        else:\n",
    "            return a * a * x"
   ]
  },
  {
   "cell_type": "code",
   "execution_count": 3,
   "metadata": {},
   "outputs": [],
   "source": [
    "# x ^ n : Iterative\n",
    "def fast_exponentiation_iterative(x, n):\n",
    "    a = 1\n",
    "    while n > 0:\n",
    "        if n % 2 == 1:\n",
    "            a *= x\n",
    "        x *= x\n",
    "        n = int(n / 2)\n",
    "    return a"
   ]
  },
  {
   "cell_type": "code",
   "execution_count": 4,
   "metadata": {},
   "outputs": [
    {
     "name": "stdout",
     "output_type": "stream",
     "text": [
      "--- 0.0 seconds ---\n",
      "1048576\n",
      "--- 0.0 seconds ---\n",
      "1048576\n"
     ]
    }
   ],
   "source": [
    "x = 2\n",
    "n = 20\n",
    "start_time = time.time()\n",
    "e = fast_exponentiation_recursive(x, n)\n",
    "print(\"--- %s seconds ---\" % (time.time() - start_time))\n",
    "print(e)\n",
    "start_time = time.time()\n",
    "e = fast_exponentiation_iterative(x, n)\n",
    "print(\"--- %s seconds ---\" % (time.time() - start_time))\n",
    "print(e)"
   ]
  },
  {
   "cell_type": "code",
   "execution_count": null,
   "metadata": {},
   "outputs": [],
   "source": []
  }
 ],
 "metadata": {
  "kernelspec": {
   "display_name": "Python 3",
   "language": "python",
   "name": "python3"
  },
  "language_info": {
   "codemirror_mode": {
    "name": "ipython",
    "version": 3
   },
   "file_extension": ".py",
   "mimetype": "text/x-python",
   "name": "python",
   "nbconvert_exporter": "python",
   "pygments_lexer": "ipython3",
   "version": "3.7.3"
  }
 },
 "nbformat": 4,
 "nbformat_minor": 2
}
