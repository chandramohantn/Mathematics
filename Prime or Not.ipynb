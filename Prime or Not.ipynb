{
 "cells": [
  {
   "cell_type": "raw",
   "metadata": {},
   "source": [
    "Check if number is prime or not"
   ]
  },
  {
   "cell_type": "code",
   "execution_count": 1,
   "metadata": {
    "collapsed": true
   },
   "outputs": [],
   "source": [
    "n = 101"
   ]
  },
  {
   "cell_type": "code",
   "execution_count": 2,
   "metadata": {
    "collapsed": true
   },
   "outputs": [],
   "source": [
    "def square_root(n):\n",
    "    if n == 1:\n",
    "        return 1\n",
    "    else:\n",
    "        root, square = 1, 1\n",
    "        while square <= n:\n",
    "            root += 1\n",
    "            square = root * root\n",
    "        return root - 1"
   ]
  },
  {
   "cell_type": "code",
   "execution_count": 3,
   "metadata": {
    "collapsed": true
   },
   "outputs": [],
   "source": [
    "def check_prime(n):\n",
    "    if n == 1:\n",
    "        print(\"Neither prime nor composite !!!\")\n",
    "    elif n == 2:\n",
    "        print(\"Prime !!!\")\n",
    "    else:\n",
    "        root = square_root(n)\n",
    "        flag = 0\n",
    "        for i in range(3, root, 2):\n",
    "            if n % i == 0:\n",
    "                flag = 1\n",
    "                break\n",
    "        if flag == 0:\n",
    "            print(\"Prime !!!\")\n",
    "        else:\n",
    "            print(\"Not Prime !!!\")"
   ]
  },
  {
   "cell_type": "code",
   "execution_count": 4,
   "metadata": {},
   "outputs": [
    {
     "name": "stdout",
     "output_type": "stream",
     "text": [
      "Prime !!!\n",
      "Not Prime !!!\n"
     ]
    }
   ],
   "source": [
    "check_prime(101)\n",
    "check_prime(100)"
   ]
  },
  {
   "cell_type": "code",
   "execution_count": null,
   "metadata": {
    "collapsed": true
   },
   "outputs": [],
   "source": []
  }
 ],
 "metadata": {
  "kernelspec": {
   "display_name": "Python 3",
   "language": "python",
   "name": "python3"
  },
  "language_info": {
   "codemirror_mode": {
    "name": "ipython",
    "version": 3
   },
   "file_extension": ".py",
   "mimetype": "text/x-python",
   "name": "python",
   "nbconvert_exporter": "python",
   "pygments_lexer": "ipython3",
   "version": "3.6.3"
  }
 },
 "nbformat": 4,
 "nbformat_minor": 2
}
