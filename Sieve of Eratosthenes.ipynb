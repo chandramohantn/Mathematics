{
 "cells": [
  {
   "cell_type": "raw",
   "metadata": {},
   "source": [
    "Find all primes till n"
   ]
  },
  {
   "cell_type": "code",
   "execution_count": 1,
   "metadata": {
    "collapsed": true
   },
   "outputs": [],
   "source": [
    "n = 10"
   ]
  },
  {
   "cell_type": "code",
   "execution_count": 2,
   "metadata": {},
   "outputs": [
    {
     "name": "stdout",
     "output_type": "stream",
     "text": [
      "# Primes till 10: 4\n"
     ]
    }
   ],
   "source": [
    "arr = [0 for _ in range(n+1)]\n",
    "arr[0], arr[1] = 1, 1\n",
    "for i in range(2, n):\n",
    "    for j in range(i+1, n):\n",
    "        if j % i == 0:\n",
    "            arr[j] = 1\n",
    "print(\"# Primes till %d: %d\" % (n, n-sum(arr)))"
   ]
  }
 ],
 "metadata": {
  "kernelspec": {
   "display_name": "Python 3",
   "language": "python",
   "name": "python3"
  },
  "language_info": {
   "codemirror_mode": {
    "name": "ipython",
    "version": 3
   },
   "file_extension": ".py",
   "mimetype": "text/x-python",
   "name": "python",
   "nbconvert_exporter": "python",
   "pygments_lexer": "ipython3",
   "version": "3.6.3"
  }
 },
 "nbformat": 4,
 "nbformat_minor": 2
}
