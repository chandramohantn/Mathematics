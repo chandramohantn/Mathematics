{
 "cells": [
  {
   "cell_type": "raw",
   "metadata": {},
   "source": [
    "n! % p"
   ]
  },
  {
   "cell_type": "code",
   "execution_count": 4,
   "metadata": {},
   "outputs": [],
   "source": [
    "a = 10000\n",
    "p = 71"
   ]
  },
  {
   "cell_type": "code",
   "execution_count": 2,
   "metadata": {},
   "outputs": [],
   "source": [
    "def multiplicative_inverse(a, b):\n",
    "    if b == 1:\n",
    "        return 0\n",
    "    else:\n",
    "        q = a // b\n",
    "        r = a % b\n",
    "        return q + multiplicative_inverse(b, r)"
   ]
  },
  {
   "cell_type": "code",
   "execution_count": 5,
   "metadata": {},
   "outputs": [
    {
     "name": "stdout",
     "output_type": "stream",
     "text": [
      "Remainder:  0\n"
     ]
    }
   ],
   "source": [
    "# Using Wilson's theorem\n",
    "extra = 1\n",
    "for i in range(a+1, p):\n",
    "    extra *= (p - (i % p))\n",
    "remainder = multiplicative_inverse(p, extra)\n",
    "print(\"Remainder: \", remainder)"
   ]
  },
  {
   "cell_type": "code",
   "execution_count": null,
   "metadata": {},
   "outputs": [],
   "source": []
  }
 ],
 "metadata": {
  "kernelspec": {
   "display_name": "Python 3",
   "language": "python",
   "name": "python3"
  },
  "language_info": {
   "codemirror_mode": {
    "name": "ipython",
    "version": 3
   },
   "file_extension": ".py",
   "mimetype": "text/x-python",
   "name": "python",
   "nbconvert_exporter": "python",
   "pygments_lexer": "ipython3",
   "version": "3.7.4"
  }
 },
 "nbformat": 4,
 "nbformat_minor": 2
}
