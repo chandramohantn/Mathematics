{
 "cells": [
  {
   "cell_type": "raw",
   "metadata": {},
   "source": [
    "(n!)^-1 % p"
   ]
  },
  {
   "cell_type": "code",
   "execution_count": 10,
   "metadata": {},
   "outputs": [],
   "source": [
    "n = 100000\n",
    "p = 1000000007"
   ]
  },
  {
   "cell_type": "code",
   "execution_count": 11,
   "metadata": {},
   "outputs": [],
   "source": [
    "def exponentiation(a, n, p):\n",
    "    if n == 1:\n",
    "        return a % p\n",
    "    else:\n",
    "        b = exponentiation(a, n // 2, p) % p\n",
    "        if n % 2 != 0:\n",
    "            a = ((a % p) * b * b) % p\n",
    "        else:\n",
    "            a = (b * b) % p\n",
    "        return a"
   ]
  },
  {
   "cell_type": "code",
   "execution_count": 12,
   "metadata": {},
   "outputs": [
    {
     "name": "stdout",
     "output_type": "stream",
     "text": [
      "Remainder:  716327852\n"
     ]
    }
   ],
   "source": [
    "fact_inv = {}\n",
    "remainder = 1\n",
    "for i in range(2, n+1):\n",
    "    remainder = (remainder * exponentiation(i, p-2, p)) % p\n",
    "    fact_inv[i] = remainder\n",
    "print(\"Remainder: \", remainder)"
   ]
  },
  {
   "cell_type": "code",
   "execution_count": null,
   "metadata": {},
   "outputs": [],
   "source": []
  }
 ],
 "metadata": {
  "kernelspec": {
   "display_name": "Python 3",
   "language": "python",
   "name": "python3"
  },
  "language_info": {
   "codemirror_mode": {
    "name": "ipython",
    "version": 3
   },
   "file_extension": ".py",
   "mimetype": "text/x-python",
   "name": "python",
   "nbconvert_exporter": "python",
   "pygments_lexer": "ipython3",
   "version": "3.7.4"
  }
 },
 "nbformat": 4,
 "nbformat_minor": 2
}
