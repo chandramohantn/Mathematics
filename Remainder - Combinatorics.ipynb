{
 "cells": [
  {
   "cell_type": "raw",
   "metadata": {},
   "source": [
    "nCr % p"
   ]
  },
  {
   "cell_type": "code",
   "execution_count": 1,
   "metadata": {},
   "outputs": [],
   "source": [
    "n = 100000\n",
    "r = 100\n",
    "p = 1000000007"
   ]
  },
  {
   "cell_type": "code",
   "execution_count": 2,
   "metadata": {},
   "outputs": [],
   "source": [
    "def exponentiation(a, n, p):\n",
    "    if n == 1:\n",
    "        return a % p\n",
    "    else:\n",
    "        b = exponentiation(a, n // 2, p) % p\n",
    "        if n % 2 != 0:\n",
    "            a = ((a % p) * b * b) % p\n",
    "        else:\n",
    "            a = (b * b) % p\n",
    "        return a"
   ]
  },
  {
   "cell_type": "code",
   "execution_count": 3,
   "metadata": {},
   "outputs": [
    {
     "name": "stdout",
     "output_type": "stream",
     "text": [
      "Remainder:  801473732\n"
     ]
    }
   ],
   "source": [
    "remainder_1 = 1\n",
    "remainder_2 = 1\n",
    "if (n - r) < r:\n",
    "    m = r\n",
    "else:\n",
    "    m = n - r\n",
    "for i in range(2, m+1):\n",
    "    remainder_1 = (remainder_1 * exponentiation(i, p-2, p)) % p\n",
    "    if i == (n - m):\n",
    "        remainder_2 = remainder_1\n",
    "remainder = 1\n",
    "for i in range(2, n+1):\n",
    "    remainder = (remainder * (i % p)) % p\n",
    "remainder = (remainder * remainder_1 * remainder_2) % p\n",
    "print(\"Remainder: \", remainder)"
   ]
  }
 ],
 "metadata": {
  "kernelspec": {
   "display_name": "Python 3",
   "language": "python",
   "name": "python3"
  },
  "language_info": {
   "codemirror_mode": {
    "name": "ipython",
    "version": 3
   },
   "file_extension": ".py",
   "mimetype": "text/x-python",
   "name": "python",
   "nbconvert_exporter": "python",
   "pygments_lexer": "ipython3",
   "version": "3.7.4"
  }
 },
 "nbformat": 4,
 "nbformat_minor": 2
}
