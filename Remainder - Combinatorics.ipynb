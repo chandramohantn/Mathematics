{
 "cells": [
  {
   "cell_type": "raw",
   "metadata": {},
   "source": [
    "nCr % p"
   ]
  },
  {
   "cell_type": "code",
   "execution_count": 1,
   "metadata": {},
   "outputs": [],
   "source": [
    "n = 1000\n",
    "r = 300\n",
    "p = 13"
   ]
  },
  {
   "cell_type": "code",
   "execution_count": 2,
   "metadata": {},
   "outputs": [],
   "source": [
    "def change_base(n, p):\n",
    "    coeff = []\n",
    "    while n > 0:\n",
    "        q = n // p\n",
    "        r = n % p\n",
    "        n = q\n",
    "        coeff.append(r)\n",
    "    return coeff"
   ]
  },
  {
   "cell_type": "code",
   "execution_count": 3,
   "metadata": {},
   "outputs": [],
   "source": [
    "def ncr(n, r):\n",
    "    return factorial(n) // (factorial(n-r) * factorial(r))"
   ]
  },
  {
   "cell_type": "code",
   "execution_count": 4,
   "metadata": {},
   "outputs": [],
   "source": [
    "def factorial(n):\n",
    "    if n == 1:\n",
    "        return 1\n",
    "    else:\n",
    "        return n * factorial(n-1)"
   ]
  },
  {
   "cell_type": "code",
   "execution_count": 5,
   "metadata": {},
   "outputs": [
    {
     "name": "stdout",
     "output_type": "stream",
     "text": [
      "Remainder:  10\n"
     ]
    }
   ],
   "source": [
    "# Using Lucas theorem\n",
    "base_n = change_base(n, p)\n",
    "base_r = change_base(r, p)\n",
    "extra = 1\n",
    "l = min(len(base_n), len(base_r))\n",
    "for i in range(l-1, -1, -1):\n",
    "    fact = ncr(base_n[i], base_r[i])\n",
    "    rem = fact % p\n",
    "    if rem > (p // 2):\n",
    "        extra *= (p - rem)\n",
    "    else:\n",
    "        extra *= rem\n",
    "print(\"Remainder: \", extra)"
   ]
  },
  {
   "cell_type": "code",
   "execution_count": null,
   "metadata": {},
   "outputs": [],
   "source": []
  }
 ],
 "metadata": {
  "kernelspec": {
   "display_name": "Python 3",
   "language": "python",
   "name": "python3"
  },
  "language_info": {
   "codemirror_mode": {
    "name": "ipython",
    "version": 3
   },
   "file_extension": ".py",
   "mimetype": "text/x-python",
   "name": "python",
   "nbconvert_exporter": "python",
   "pygments_lexer": "ipython3",
   "version": "3.7.4"
  }
 },
 "nbformat": 4,
 "nbformat_minor": 2
}
